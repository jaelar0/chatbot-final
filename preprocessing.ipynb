{
 "cells": [
  {
   "cell_type": "markdown",
   "id": "71018211",
   "metadata": {},
   "source": [
    "## Notebook to cleanup raw html files and save as json\n",
    "- code takes headers in html and saves them as questions as 'input' and answers as 'output'\n",
    "- outputs clean data"
   ]
  },
  {
   "cell_type": "code",
   "execution_count": 13,
   "id": "7da37195",
   "metadata": {},
   "outputs": [],
   "source": [
    "import markdown\n",
    "from bs4 import BeautifulSoup\n",
    "import glob\n",
    "\n",
    "pairs = []\n",
    "\n",
    "for file_path in glob.glob(\"./input/*.md\"):\n",
    "    with open(file_path, 'r', encoding='utf-8') as f:\n",
    "        html = markdown.markdown(f.read())\n",
    "        soup = BeautifulSoup(html, 'html.parser')\n",
    "        \n",
    "        terms = soup.find_all(['h1', 'h2', 'h3'])  # assuming terms are in headings\n",
    "        for term in terms:\n",
    "            next_sibling = term.find_next_sibling()\n",
    "            if next_sibling:\n",
    "                input_text = f\"What is an {term.text.strip().lower()}?\"\n",
    "                output_text = next_sibling.text.strip()\n",
    "                pairs.append((input_text, output_text))\n",
    "\n",
    "# Save to TSV/CSV/JSON for training\n",
    "import json\n",
    "with open('./input/investment_glossary.json', 'w') as f:\n",
    "    json.dump([{'input': i, 'output': o} for i, o in pairs], f, indent=2)\n"
   ]
  },
  {
   "cell_type": "code",
   "execution_count": 9,
   "id": "1e5e20d2",
   "metadata": {},
   "outputs": [
    {
     "name": "stderr",
     "output_type": "stream",
     "text": [
      "[nltk_data] Downloading package punkt to /Users/jorge/nltk_data...\n",
      "[nltk_data]   Package punkt is already up-to-date!\n"
     ]
    },
    {
     "name": "stdout",
     "output_type": "stream",
     "text": [
      "Saved 20171 pairs to ./input/investopedia_data.json\n"
     ]
    }
   ],
   "source": [
    "import os\n",
    "import re\n",
    "import json\n",
    "import nltk\n",
    "\n",
    "nltk.download('punkt')\n",
    "from nltk.tokenize import sent_tokenize\n",
    "\n",
    "INPUT_DIR = \"./investopedia_terms\"\n",
    "OUTPUT_FILE = \"./input/investopedia_data.json\"\n",
    "\n",
    "def extract_qa_pairs_from_file(filepath):\n",
    "    with open(filepath, \"r\", encoding=\"utf-8\") as f:\n",
    "        lines = [line.strip() for line in f.readlines() if line.strip()]\n",
    "\n",
    "    pairs = []\n",
    "\n",
    "    for i, line in enumerate(lines):\n",
    "        if line.endswith(\"?\") and \"definition\" not in line.lower():\n",
    "            input_question = line\n",
    "            buffer = []\n",
    "\n",
    "            # Collect lines until a full sentence can be formed\n",
    "            for j in range(i + 1, len(lines)):\n",
    "                if lines[j].startswith(\"##\"):\n",
    "                    break\n",
    "                buffer.append(lines[j].strip())\n",
    "                combined = ' '.join(buffer)\n",
    "                sentences = sent_tokenize(combined)\n",
    "                if sentences:\n",
    "                    output = sentences[0]\n",
    "                    if output and output[-1] in \".!?\":\n",
    "                        pairs.append({\n",
    "                            \"input\": input_question,\n",
    "                            \"output\": output\n",
    "                        })\n",
    "                        break  # We have a full sentence; stop\n",
    "    return pairs\n",
    "\n",
    "\n",
    "all_pairs = []\n",
    "for filename in os.listdir(INPUT_DIR):\n",
    "    if filename.endswith(\".md\"):\n",
    "        filepath = os.path.join(INPUT_DIR, filename)\n",
    "        pairs = extract_qa_pairs_from_file(filepath)\n",
    "        all_pairs.extend(pairs)\n",
    "\n",
    "with open(OUTPUT_FILE, \"w\", encoding=\"utf-8\") as f:\n",
    "    json.dump(all_pairs, f, indent=2, ensure_ascii=False)\n",
    "\n",
    "print(f\"Saved {len(all_pairs)} pairs to {OUTPUT_FILE}\")\n"
   ]
  },
  {
   "cell_type": "code",
   "execution_count": 11,
   "id": "66186be0",
   "metadata": {},
   "outputs": [],
   "source": [
    "## final cleaning\n",
    "## removing questions that have special characters\n",
    "\n",
    "def clean_json(input_path, output_path):\n",
    "    with open(input_path, \"r\", encoding=\"utf-8\") as f:\n",
    "        data = json.load(f)\n",
    "\n",
    "    # Filter out records where the input contains '##'\n",
    "    cleaned_data = [entry for entry in data if '##' not in entry['input']]\n",
    "    with open(output_path, \"w\", encoding=\"utf-8\") as f:\n",
    "        json.dump(cleaned_data, f, indent=2, ensure_ascii=False)\n",
    "\n",
    "clean_json(\"./input/investopedia_data.json\", \"./input/investopedia_data_cln.json\")"
   ]
  },
  {
   "cell_type": "code",
   "execution_count": 1,
   "id": "ad9794c6",
   "metadata": {},
   "outputs": [],
   "source": [
    "# shuffling \n",
    "\n",
    "import json\n",
    "import random\n",
    "\n",
    "# Read JSON file\n",
    "with open('./input/final_data.json', 'r') as file:\n",
    "    data = json.load(file)\n",
    "\n",
    "# Check if data is a list\n",
    "if isinstance(data, list):\n",
    "    # Randomize order\n",
    "    random.shuffle(data)\n",
    "    \n",
    "    # Save back to JSON file (optional)\n",
    "    with open('randomized_data.json', 'w') as file:\n",
    "        json.dump(data, file, indent=4)\n",
    "else:\n",
    "    print(\"JSON data is not a list\")\n"
   ]
  }
 ],
 "metadata": {
  "kernelspec": {
   "display_name": ".venv",
   "language": "python",
   "name": "python3"
  },
  "language_info": {
   "codemirror_mode": {
    "name": "ipython",
    "version": 3
   },
   "file_extension": ".py",
   "mimetype": "text/x-python",
   "name": "python",
   "nbconvert_exporter": "python",
   "pygments_lexer": "ipython3",
   "version": "3.10.9"
  }
 },
 "nbformat": 4,
 "nbformat_minor": 5
}
